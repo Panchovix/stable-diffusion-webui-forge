{
  "nbformat": 4,
  "nbformat_minor": 0,
  "metadata": {
    "colab": {
      "provenance": [],
      "machine_shape": "hm",
      "gpuType": "L4",
      "authorship_tag": "ABX9TyNLXARpVVaHUi4PhKLGZAMm"
    },
    "kernelspec": {
      "name": "python3",
      "display_name": "Python 3"
    },
    "language_info": {
      "name": "python"
    },
    "accelerator": "GPU"
  },
  "cells": [
    {
      "cell_type": "markdown",
      "source": [
        "# huchukato's SD reForge Colab\n",
        "\n",
        "The notebook is intended to make easy to install and use [Stable Diffusion WebUI reForge](https://github.com/Panchovix/stable-diffusion-webui-reForge.git) in Google Colab.\n",
        "\n",
        "## Parameters\n",
        "\n",
        "\n",
        "*   **USE_GOOGLE_DRIVE** - Stores the reForge installation in your GDrive, this makes it easy to store your generated images, checkpoints, installed extensions etc between sessions\n",
        "*   **UPDATE_REFORGE** - Update your reForge installation when you run this notebook\n",
        "*   **INSTALL_DEPS** - Installs optional dependencies such as `insightface`\n",
        "*   **ALLOW_EXTENSION_INSTALLATION** - Allow installing extensions through the UI **Warning**: It is recommended to have **USE_USERNAME_AND_PASSWORD** turned on if you're using this, otherwise anyone with your Gradio URL could install malicious extensions on your instance\n",
        "*   **EXTRA_ARG** - Startup command line arguments like `--cuda-stream --pin-shared-memory` (*Faster but risky*)\n",
        "*   **USE_USERNAME_AND_PASSWORD** - Require inputting a username and password when accessing the Gradio URL\n",
        "*   **USERNAME** - Username to use when accessing the Gradio URL\n",
        "*   **PASSWORD** - Password to use when accessing the Gradio URL\n",
        "\n"
      ],
      "metadata": {
        "id": "G1THoku412to"
      }
    },
    {
      "cell_type": "code",
      "source": [
        "from google.colab import drive\n",
        "\n",
        "USE_GOOGLE_DRIVE = True  #@param {type:\"boolean\"}\n",
        "UPDATE_REFORGE = True  #@param {type:\"boolean\"}\n",
        "INSTALL_DEPS = True #@param {type:\"boolean\"}\n",
        "ALLOW_EXTENSION_INSTALLATION = True #@param {type:\"boolean\"}\n",
        "EXTRA_ARGS = \"--cuda-stream --pin-shared-memory\" #@param {type:\"string\"}\n",
        "USE_USERNAME_AND_PASSWORD = False #@param {type:\"boolean\"}\n",
        "USERNAME = \"huchukato\" # @param {type:\"string\"}\n",
        "PASSWORD = \"isheretohelp\" # @param {type:\"string\"}\n",
        "\n",
        "WORKSPACE = 'stable-diffusion-webui-reForge'\n",
        "\n",
        "if USE_GOOGLE_DRIVE:\n",
        "  print(\"📂 Connecting to Google Drive...\")\n",
        "  drive.mount('/content/drive')\n",
        "\n",
        "  WORKSPACE = \"/content/drive/MyDrive/stable-diffusion-webui-reForge\"\n",
        "  %cd /content/drive/MyDrive\n",
        "\n",
        "![ ! -d $WORKSPACE ] && echo -= Initial setup SDreForge =- && git clone --config core.filemode=false https://github.com/Panchovix/stable-diffusion-webui-reForge.git\n",
        "%cd $WORKSPACE\n",
        "\n",
        "extra_args = []\n",
        "\n",
        "if UPDATE_REFORGE:\n",
        "  !echo -= Updating SD reForge =-\n",
        "  !git pull\n",
        "\n",
        "if INSTALL_DEPS:\n",
        "  !echo -= Install dependencies =-\n",
        "  !pip install insightface\n",
        "\n",
        "if ALLOW_EXTENSION_INSTALLATION:\n",
        "  extra_args.append(\"--enable-insecure-extension-access\")\n",
        "\n",
        "if EXTRA_ARGS:\n",
        "  extra_args.append(f\"{EXTRA_ARGS}\")\n",
        "\n",
        "if USE_USERNAME_AND_PASSWORD:\n",
        "  extra_args.append(f\"--gradio-auth {USERNAME}:{PASSWORD}\")\n",
        "\n",
        "extra_args_concat = \" \".join(extra_args)\n",
        "\n",
        "!python launch.py --share {extra_args_concat}"
      ],
      "metadata": {
        "id": "rEeZ9in5tBhT",
        "cellView": "form"
      },
      "execution_count": null,
      "outputs": []
    }
  ]
}
